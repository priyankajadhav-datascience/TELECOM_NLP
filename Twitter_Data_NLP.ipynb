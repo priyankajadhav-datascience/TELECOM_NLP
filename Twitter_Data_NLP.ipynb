{
 "cells": [
  {
   "cell_type": "code",
   "execution_count": 1,
   "metadata": {
    "collapsed": true
   },
   "outputs": [],
   "source": [
    "import pandas as pd\n",
    "from nltk.corpus import stopwords\n",
    "from nltk.tokenize import word_tokenize\n",
    "import re\n"
   ]
  },
  {
   "cell_type": "code",
   "execution_count": 2,
   "metadata": {
    "collapsed": true
   },
   "outputs": [],
   "source": [
    "def clean_data(text):\n",
    "    \n",
    "    stop_words = set(stopwords.words('english'))\n",
    "    stop_words.update(['.', ',','@','$','%' ,'\"', \"'\", '?', '!', ':', ';', '(', ')', '[', ']', '{', '}']) # remove it if you need punctuation \n",
    "    word_tokens = word_tokenize(text)\n",
    "    filtered_sentence = [w for w in word_tokens if not w in stop_words]\n",
    "    filtered_sentence = []\n",
    "\n",
    "    for w in word_tokens:\n",
    "        if w not in stop_words:\n",
    "            filtered_sentence.append(w)\n",
    "\n",
    "\n",
    "    return filtered_sentence\n"
   ]
  },
  {
   "cell_type": "code",
   "execution_count": 4,
   "metadata": {
    "collapsed": false
   },
   "outputs": [
    {
     "name": "stdout",
     "output_type": "stream",
     "text": [
      "                   date                                          new_tweet\n",
      "0      10/20/2016 16:58  [Aap, jio, hazaro, sall, viru, sir, bc, aap, j...\n",
      "1      10/20/2016 16:57                                          [jio, 2G]\n",
      "2      10/20/2016 16:57  [rrn, z, jfjfif, fNwt5, lgg, auuaj, wt, tttJjM...\n",
      "3      10/20/2016 16:56  [mukeshambani13, Sir, Your, jio, good, custome...\n",
      "4      10/20/2016 16:55  [3, http, nationalvoice, categorydetail, aspx,...\n",
      "5      10/20/2016 16:54  [kimicheonnie, younghxxn, SQUEAKS, THERE, SHE,...\n",
      "6      10/20/2016 16:54    [kimicheonnie, younghxxn, lalalala, cant, hear]\n",
      "7      10/20/2016 16:53            [yxxngi, younghxxn, w, yes, jio, could]\n",
      "8      10/20/2016 16:53                 [Jio, slowest, 4G, service, India]\n",
      "9      10/20/2016 16:52                        [MukeshAambani, Hello, sir]\n",
      "10     10/20/2016 16:52  [NargisFakhri, Happy, birthday, Aap, Jio, Haja...\n",
      "11     10/20/2016 16:52  [kimicheonnie, younghxxn, OH, MY, GOSH, LOOK, ...\n",
      "12     10/20/2016 16:51  [Sir, hame, eke, jio, sim, chahiye, Address, v...\n",
      "13     10/20/2016 16:48  [Tired, trying, Customer, care, responding, Pl...\n",
      "14     10/20/2016 16:45  [JioCare, reliancejio, team, jio, please, look...\n",
      "15     10/20/2016 16:41  [RIL, invest, Rs, 1, lakh, cr, Jio, http, news...\n",
      "16     10/20/2016 16:41                                             [NAME]\n",
      "17     10/20/2016 16:36  [Jio, blames, rivals, 75, call, failure, netwo...\n",
      "18     10/20/2016 16:31  [Jio, free, voice, offer, valid, till, Dec, 3,...\n",
      "19     10/20/2016 16:26                               [ArvindKejriwal, OK]\n",
      "20     10/20/2016 16:24            [RIL, meets, Q2, results, expectations]\n",
      "21     10/20/2016 16:23  [Trai, nod, Jio, free, offer, till, December, ...\n",
      "22     10/20/2016 16:22                          [OIO, 294O, 56O4, jio98i]\n",
      "23     10/20/2016 16:14                          [whitesilenxe, fuck, jio]\n",
      "24     10/20/2016 16:13            [RIL, meets, Q2, results, expectations]\n",
      "25     10/20/2016 16:12  [Free, Voice, Calls, For, Life, Offer, Is, Cle...\n",
      "26     10/20/2016 16:11  [jio, might, start, playing, trust, issues, go...\n",
      "27     10/20/2016 16:09  [Trai, nod, Jio, free, offer, till, December, ...\n",
      "28     10/20/2016 16:07  [CrystalWJY, IF, YOURE, GON, NA, SEE, JIO, ME,...\n",
      "29     10/20/2016 16:06                                                 []\n",
      "...                 ...                                                ...\n",
      "24965   10/13/2016 8:24  [Free, Calls, By, Reliance, Jio, Congesting, N...\n",
      "24966   10/13/2016 8:24  [Free, Calls, By, Reliance, Jio, Congesting, N...\n",
      "24967   10/13/2016 8:24  [Free, Calls, By, Reliance, Jio, Congesting, N...\n",
      "24968   10/13/2016 8:24  [Free, Calls, By, Reliance, Jio, Congesting, N...\n",
      "24969   10/13/2016 8:24  [Free, Calls, By, Reliance, Jio, Congesting, N...\n",
      "24970   10/13/2016 8:24  [Free, Calls, By, Reliance, Jio, Congesting, N...\n",
      "24971   10/13/2016 8:24  [Free, Calls, By, Reliance, Jio, Congesting, N...\n",
      "24972   10/13/2016 8:24  [Breaking, News, Free, Calls, By, Reliance, Ji...\n",
      "24973   10/13/2016 8:24  [Free, Calls, By, Reliance, Jio, Congesting, N...\n",
      "24974   10/13/2016 8:24  [Check, Ookla, Speedtest, result, What, speed,...\n",
      "24975   10/13/2016 8:24  [Free, Calls, By, Reliance, Jio, Congesting, N...\n",
      "24976   10/13/2016 8:24  [Free, Calls, By, Reliance, Jio, Congesting, N...\n",
      "24977   10/13/2016 8:24  [Free, Calls, By, Reliance, Jio, Congesting, N...\n",
      "24978   10/13/2016 8:24  [Free, Calls, By, Reliance, Jio, Congesting, N...\n",
      "24979   10/13/2016 8:24  [Free, Calls, By, Reliance, Jio, Congesting, N...\n",
      "24980   10/13/2016 8:24  [Free, Calls, By, Reliance, Jio, Congesting, N...\n",
      "24981   10/13/2016 8:24  [Free, Calls, By, Reliance, Jio, Congesting, N...\n",
      "24982   10/13/2016 8:24  [Free, Calls, By, Reliance, Jio, Congesting, N...\n",
      "24983   10/13/2016 8:24  [Business, NDTV, Free, Calls, By, Reliance, Ji...\n",
      "24984   10/13/2016 8:24  [JioCare, Jio, Sucks, big, time, Never, connec...\n",
      "24985   10/13/2016 8:24  [Free, Calls, By, Reliance, Jio, Congesting, N...\n",
      "24986   10/13/2016 8:24  [Free, Calls, By, Reliance, Jio, Congesting, N...\n",
      "24987   10/13/2016 8:24  [Free, Calls, By, Reliance, Jio, Congesting, N...\n",
      "24988   10/13/2016 8:24  [Free, Calls, By, Reliance, Jio, Congesting, N...\n",
      "24989   10/13/2016 8:24  [Free, Calls, By, Reliance, Jio, Congesting, N...\n",
      "24990   10/13/2016 8:24  [Free, Calls, By, Reliance, Jio, Congesting, N...\n",
      "24991   10/13/2016 8:24  [Free, Calls, By, Reliance, Jio, Congesting, N...\n",
      "24992   10/13/2016 8:24  [Free, Calls, By, Reliance, Jio, Congesting, N...\n",
      "24993   10/13/2016 8:24  [Free, Calls, By, Reliance, Jio, Congesting, N...\n",
      "24994   10/13/2016 8:24  [Free, Calls, By, Reliance, Jio, Congesting, N...\n",
      "\n",
      "[24995 rows x 2 columns]\n"
     ]
    }
   ],
   "source": [
    "df=pd.read_csv('output_got2.csv',encoding='ISO-8859-1',skip_blank_lines=True,delimiter=',')\n",
    "df=df.drop('Unnamed: 4',1)\n",
    "df=df.drop('Unnamed: 5',1)\n",
    "df=df.drop('Unnamed: 6',1)\n",
    "df=df.drop('Unnamed: 3',1)\n",
    "\n",
    "\n",
    "df['text']=df['text'].str.replace('[^a-zA-Z0-9]',\" \")\n",
    "list_temp=[]\n",
    "for temp in df['text']:\n",
    "    temp2=clean_data(str(temp))\n",
    "    list_temp.append(temp2)\n",
    "tweet=pd.Series(list_temp)\n",
    "df['new_tweet']=tweet.values\n",
    "df=df.drop('Unnamed: 2',1)\n",
    "df=df.drop('text',1)\n",
    "\n",
    "print(df)\n",
    "df.to_csv('new_output.csv',encoding='utf-8')"
   ]
  },
  {
   "cell_type": "code",
   "execution_count": null,
   "metadata": {
    "collapsed": true
   },
   "outputs": [],
   "source": []
  }
 ],
 "metadata": {
  "anaconda-cloud": {},
  "kernelspec": {
   "display_name": "Python [conda root]",
   "language": "python",
   "name": "conda-root-py"
  },
  "language_info": {
   "codemirror_mode": {
    "name": "ipython",
    "version": 3
   },
   "file_extension": ".py",
   "mimetype": "text/x-python",
   "name": "python",
   "nbconvert_exporter": "python",
   "pygments_lexer": "ipython3",
   "version": "3.5.2"
  }
 },
 "nbformat": 4,
 "nbformat_minor": 1
}
